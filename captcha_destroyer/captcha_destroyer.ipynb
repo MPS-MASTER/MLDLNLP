{
 "cells": [
  {
   "cell_type": "code",
   "execution_count": 1,
   "metadata": {
    "_cell_guid": "b1076dfc-b9ad-4769-8c92-a6c4dae69d19",
    "_uuid": "8f2839f25d086af736a60e9eeb907d3b93b6e0e5"
   },
   "outputs": [],
   "source": [
    "# This Python 3 environment comes with many helpful analytics libraries installed\n",
    "# It is defined by the kaggle/python Docker image: https://github.com/kaggle/docker-python\n",
    "# For example, here's several helpful packages to load\n",
    "\n",
    "import numpy as np # linear algebra\n",
    "import pandas as pd # data processing, CSV file I/O (e.g. pd.read_csv)\n",
    "\n",
    "# Input data files are available in the read-only \"../input/\" directory\n",
    "# For example, running this (by clicking run or pressing Shift+Enter) will list all files under the input directory\n",
    "\n",
    "import os\n",
    "for dirname, _, filenames in os.walk(r'C:\\Users\\mpspa\\Desktop\\Kaggle\\Captcha\\captcha-tensorflow-master\\datasets\\images\\char-6-epoch-6/temp'):\n",
    "    for filename in filenames:\n",
    "        a = 1\n",
    "        #print(os.path.join(dirname, filename))\n",
    "\n",
    "# You can write up to 5GB to the current directory (/kaggle/working/) that gets preserved as output when you create a version using \"Save & Run All\" \n",
    "# You can also write temporary files to /kaggle/temp/, but they won't be saved outside of the current session"
   ]
  },
  {
   "cell_type": "code",
   "execution_count": 2,
   "metadata": {
    "_cell_guid": "79c7e3d0-c299-4dcb-8224-4455121ee9b0",
    "_uuid": "d629ff2d2480ee46fbb7e2d37f6b5fab8052498a"
   },
   "outputs": [],
   "source": [
    "import os\n",
    "\n",
    "lst = os.listdir(r'C:\\Users\\mpspa\\Desktop\\Kaggle\\Captcha\\captcha-tensorflow-master\\datasets\\images\\char-6-epoch-6/temp')"
   ]
  },
  {
   "cell_type": "code",
   "execution_count": 3,
   "metadata": {
    "_kg_hide-output": true
   },
   "outputs": [
    {
     "data": {
      "text/plain": [
       "10000"
      ]
     },
     "execution_count": 3,
     "metadata": {},
     "output_type": "execute_result"
    }
   ],
   "source": [
    "len(lst)"
   ]
  },
  {
   "cell_type": "code",
   "execution_count": 4,
   "metadata": {},
   "outputs": [],
   "source": [
    "import pandas as pd\n",
    "import numpy as np\n",
    "import matplotlib.pyplot as plt"
   ]
  },
  {
   "cell_type": "code",
   "execution_count": 5,
   "metadata": {},
   "outputs": [
    {
     "name": "stderr",
     "output_type": "stream",
     "text": [
      "Using TensorFlow backend.\n"
     ]
    }
   ],
   "source": [
    "import keras\n",
    "from keras.models import Sequential\n",
    "from keras.layers import Conv2D, MaxPooling2D, Dropout, Flatten, Dense, Activation, BatchNormalization,LSTM, Reshape, SimpleRNN\n",
    "from keras.layers.recurrent import GRU"
   ]
  },
  {
   "cell_type": "code",
   "execution_count": 6,
   "metadata": {},
   "outputs": [],
   "source": [
    "import os\n",
    "import string\n",
    "import cv2"
   ]
  },
  {
   "cell_type": "code",
   "execution_count": 7,
   "metadata": {},
   "outputs": [
    {
     "data": {
      "text/plain": [
       "'abcdefghijklmnopqrstuvwxyz0123456789ABCDEFGHIJKLMNOPQRSTUVWXYZ'"
      ]
     },
     "execution_count": 7,
     "metadata": {},
     "output_type": "execute_result"
    }
   ],
   "source": [
    "characters = string.ascii_lowercase+\"0123456789\"+string.ascii_uppercase\n",
    "characters"
   ]
  },
  {
   "cell_type": "code",
   "execution_count": 8,
   "metadata": {},
   "outputs": [
    {
     "data": {
      "text/plain": [
       "62"
      ]
     },
     "execution_count": 8,
     "metadata": {},
     "output_type": "execute_result"
    }
   ],
   "source": [
    "len(characters)"
   ]
  },
  {
   "cell_type": "code",
   "execution_count": 9,
   "metadata": {},
   "outputs": [],
   "source": [
    "all_images =  os.listdir(r'C:\\Users\\mpspa\\Desktop\\Kaggle\\Captcha\\captcha-tensorflow-master\\datasets\\images\\char-6-epoch-6\\temp')"
   ]
  },
  {
   "cell_type": "code",
   "execution_count": 10,
   "metadata": {},
   "outputs": [
    {
     "data": {
      "text/plain": [
       "('01264j_fb013834-b39d-4788-875b-4d069eb3a264.png', 10000)"
      ]
     },
     "execution_count": 10,
     "metadata": {},
     "output_type": "execute_result"
    }
   ],
   "source": [
    "all_images[-1], len(all_images)"
   ]
  },
  {
   "cell_type": "code",
   "execution_count": null,
   "metadata": {},
   "outputs": [],
   "source": []
  },
  {
   "cell_type": "code",
   "execution_count": 11,
   "metadata": {},
   "outputs": [],
   "source": [
    "def preprocess_data():\n",
    "    \n",
    "    inp_x = np.zeros((len(all_images), 100,160,1))\n",
    "    inp_y = np.zeros((len(all_images), 6,len(characters)))\n",
    "    for idx, image in enumerate(all_images):\n",
    "        # ----------------prepare input container\n",
    "        \n",
    "        \n",
    "        img = cv2.imread(r\"C:\\Users\\mpspa\\Desktop\\Kaggle\\Captcha\\captcha-tensorflow-master\\datasets\\images\\char-6-epoch-6/temp/\"+image, cv2.IMREAD_GRAYSCALE)\n",
    "        #print(np.max(img))\n",
    "        #plt.imshow(img)\n",
    "        #print(img.shape)\n",
    "        \n",
    "        # ---------------------Scale images --------------\n",
    "        \n",
    "        img = img/255.0\n",
    "        \n",
    "        image_txt = image[0:6]\n",
    "        target_oht = np.zeros((5,len(characters)))\n",
    "        if(len(image_txt)<7):\n",
    "            img = np.reshape(img, (100,160,1))\n",
    "            inp_x[idx] = img\n",
    "            \n",
    "             # ------------------Define targets and code them using OneHotEncoding\n",
    "            target_oht = np.zeros((6,len(characters)))\n",
    "            for k, char in enumerate(image_txt):\n",
    "                target_oht[k, characters.find(char)] = 1\n",
    "            inp_y[idx] = target_oht\n",
    "    return inp_x, inp_y\n",
    "        \n",
    "               \n",
    "        \n",
    "        \n",
    "        "
   ]
  },
  {
   "cell_type": "code",
   "execution_count": 12,
   "metadata": {},
   "outputs": [],
   "source": [
    "X, Y = preprocess_data()"
   ]
  },
  {
   "cell_type": "code",
   "execution_count": 13,
   "metadata": {},
   "outputs": [],
   "source": [
    "from sklearn.model_selection import train_test_split"
   ]
  },
  {
   "cell_type": "code",
   "execution_count": 14,
   "metadata": {},
   "outputs": [],
   "source": [
    "train_x ,test_x, train_y ,test_y = train_test_split(X,Y, shuffle = True, test_size = .1)"
   ]
  },
  {
   "cell_type": "code",
   "execution_count": 15,
   "metadata": {},
   "outputs": [
    {
     "data": {
      "text/plain": [
       "((9000, 100, 160, 1), (9000, 6, 62), (1000, 100, 160, 1), (1000, 6, 62))"
      ]
     },
     "execution_count": 15,
     "metadata": {},
     "output_type": "execute_result"
    }
   ],
   "source": [
    "train_x.shape,train_y.shape, test_x.shape,test_y.shape"
   ]
  },
  {
   "cell_type": "code",
   "execution_count": 16,
   "metadata": {},
   "outputs": [],
   "source": [
    "model = Sequential()"
   ]
  },
  {
   "cell_type": "code",
   "execution_count": 17,
   "metadata": {},
   "outputs": [],
   "source": [
    "def prepare_model():\n",
    "    model.add(Conv2D(128, (3,3), input_shape = (100,160,1) ,padding = 'same', activation = 'relu'))\n",
    "    #model.add(Dropout(.1))\n",
    "    #model.add(BatchNormalization())\n",
    "    model.add(MaxPooling2D(pool_size = (2,2),padding ='same'))\n",
    "    model.add(Conv2D(64, (3,3), activation = 'relu', padding = 'same',))\n",
    "    #model.add(Dropout(.1))\n",
    "    #model.add(BatchNormalization())\n",
    "    #model.add(MaxPooling2D(pool_size =(3,3),padding ='same'))\n",
    "    model.add(Conv2D(64, (3,3), activation = 'relu', padding = 'same'))\n",
    "    #model.add(Dropout(.1))\n",
    "    #model.add(BatchNormalization())\n",
    "    model.add(MaxPooling2D(pool_size = (3,3),padding ='same'))\n",
    "    model.add(Conv2D(32, (3,3), activation = 'relu', padding = 'same'))\n",
    "  \n",
    "    #model.add(BatchNormalization())\n",
    "    model.add(MaxPooling2D(pool_size = (3,3),padding ='same'))\n",
    "    model.add(Conv2D(64, (3,3), activation = 'relu', padding = 'same'))\n",
    "    model.add(MaxPooling2D(pool_size = (1,1),padding ='same'))\n",
    "    model.add(Conv2D(32, (3,3), activation = 'relu', padding = 'same'))\n",
    "    model.add(MaxPooling2D(pool_size = (1,1),padding ='same'))\n",
    "    print(model.output_shape)\n",
    "    model.add(Reshape((model.output_shape[1], model.output_shape[2]*model.output_shape[3])))\n",
    "    print(model.output_shape)\n",
    "    #model.add(LSTM(50, batch_input_shape=(2,5,36),stateful = True, return_sequences = True))\n",
    "    model.add(SimpleRNN(50, return_sequences = True,activation = 'relu'))\n",
    "    model.add(SimpleRNN(50, return_sequences = True,activation = 'relu'))\n",
    "    model.add(SimpleRNN(50, return_sequences = True,activation = 'relu'))\n",
    "  \n",
    "\n",
    "\n",
    "    model.add(Dense(62, activation = \"softmax\"))\n",
    "    model.compile(loss=keras.losses.categorical_crossentropy,\n",
    "              optimizer=keras.optimizers.Adam(),\n",
    "              metrics=['accuracy'])\n",
    "   \n",
    "    return model\n",
    "    "
   ]
  },
  {
   "cell_type": "code",
   "execution_count": 18,
   "metadata": {},
   "outputs": [
    {
     "name": "stdout",
     "output_type": "stream",
     "text": [
      "(None, 6, 9, 32)\n",
      "(None, 6, 288)\n"
     ]
    }
   ],
   "source": [
    "model =prepare_model()"
   ]
  },
  {
   "cell_type": "code",
   "execution_count": 19,
   "metadata": {},
   "outputs": [
    {
     "name": "stdout",
     "output_type": "stream",
     "text": [
      "Model: \"sequential_1\"\n",
      "_________________________________________________________________\n",
      "Layer (type)                 Output Shape              Param #   \n",
      "=================================================================\n",
      "conv2d_1 (Conv2D)            (None, 100, 160, 128)     1280      \n",
      "_________________________________________________________________\n",
      "max_pooling2d_1 (MaxPooling2 (None, 50, 80, 128)       0         \n",
      "_________________________________________________________________\n",
      "conv2d_2 (Conv2D)            (None, 50, 80, 64)        73792     \n",
      "_________________________________________________________________\n",
      "conv2d_3 (Conv2D)            (None, 50, 80, 64)        36928     \n",
      "_________________________________________________________________\n",
      "max_pooling2d_2 (MaxPooling2 (None, 17, 27, 64)        0         \n",
      "_________________________________________________________________\n",
      "conv2d_4 (Conv2D)            (None, 17, 27, 32)        18464     \n",
      "_________________________________________________________________\n",
      "max_pooling2d_3 (MaxPooling2 (None, 6, 9, 32)          0         \n",
      "_________________________________________________________________\n",
      "conv2d_5 (Conv2D)            (None, 6, 9, 64)          18496     \n",
      "_________________________________________________________________\n",
      "max_pooling2d_4 (MaxPooling2 (None, 6, 9, 64)          0         \n",
      "_________________________________________________________________\n",
      "conv2d_6 (Conv2D)            (None, 6, 9, 32)          18464     \n",
      "_________________________________________________________________\n",
      "max_pooling2d_5 (MaxPooling2 (None, 6, 9, 32)          0         \n",
      "_________________________________________________________________\n",
      "reshape_1 (Reshape)          (None, 6, 288)            0         \n",
      "_________________________________________________________________\n",
      "simple_rnn_1 (SimpleRNN)     (None, 6, 50)             16950     \n",
      "_________________________________________________________________\n",
      "simple_rnn_2 (SimpleRNN)     (None, 6, 50)             5050      \n",
      "_________________________________________________________________\n",
      "simple_rnn_3 (SimpleRNN)     (None, 6, 50)             5050      \n",
      "_________________________________________________________________\n",
      "dense_1 (Dense)              (None, 6, 62)             3162      \n",
      "=================================================================\n",
      "Total params: 197,636\n",
      "Trainable params: 197,636\n",
      "Non-trainable params: 0\n",
      "_________________________________________________________________\n"
     ]
    }
   ],
   "source": [
    "model.summary()"
   ]
  },
  {
   "cell_type": "code",
   "execution_count": 20,
   "metadata": {},
   "outputs": [
    {
     "name": "stdout",
     "output_type": "stream",
     "text": [
      "Train on 9000 samples, validate on 1000 samples\n",
      "Epoch 1/50\n",
      "9000/9000 [==============================] - 115s 13ms/step - loss: 1.7059 - accuracy: 0.5455 - val_loss: 1.5644 - val_accuracy: 0.5612\n",
      "Epoch 2/50\n",
      "9000/9000 [==============================] - 98s 11ms/step - loss: 1.5656 - accuracy: 0.5605 - val_loss: 1.5619 - val_accuracy: 0.5610\n",
      "Epoch 3/50\n",
      "9000/9000 [==============================] - 94s 10ms/step - loss: 1.5611 - accuracy: 0.5609 - val_loss: 1.5561 - val_accuracy: 0.5610\n",
      "Epoch 4/50\n",
      "9000/9000 [==============================] - 95s 11ms/step - loss: 1.5564 - accuracy: 0.5601 - val_loss: 1.5570 - val_accuracy: 0.5600\n",
      "Epoch 5/50\n",
      "9000/9000 [==============================] - 97s 11ms/step - loss: 1.5541 - accuracy: 0.5596 - val_loss: 1.5525 - val_accuracy: 0.5605\n",
      "Epoch 6/50\n",
      "9000/9000 [==============================] - 96s 11ms/step - loss: 1.5521 - accuracy: 0.5606 - val_loss: 1.5511 - val_accuracy: 0.5655\n",
      "Epoch 7/50\n",
      "9000/9000 [==============================] - 95s 11ms/step - loss: 1.5518 - accuracy: 0.5613 - val_loss: 1.5487 - val_accuracy: 0.5602\n",
      "Epoch 8/50\n",
      "9000/9000 [==============================] - 48s 5ms/step - loss: 1.5072 - accuracy: 0.6053 - val_loss: 1.4619 - val_accuracy: 0.6343\n",
      "Epoch 9/50\n",
      "9000/9000 [==============================] - 47s 5ms/step - loss: 1.4356 - accuracy: 0.6440 - val_loss: 1.4097 - val_accuracy: 0.6545\n",
      "Epoch 10/50\n",
      "9000/9000 [==============================] - 45s 5ms/step - loss: 1.3654 - accuracy: 0.6631 - val_loss: 1.3115 - val_accuracy: 0.6712\n",
      "Epoch 11/50\n",
      "9000/9000 [==============================] - 51s 6ms/step - loss: 1.2160 - accuracy: 0.6810 - val_loss: 1.1750 - val_accuracy: 0.6817\n",
      "Epoch 12/50\n",
      "9000/9000 [==============================] - 45s 5ms/step - loss: 1.0517 - accuracy: 0.7050 - val_loss: 0.9990 - val_accuracy: 0.7130\n",
      "Epoch 13/50\n",
      "9000/9000 [==============================] - 45s 5ms/step - loss: 0.9131 - accuracy: 0.7337 - val_loss: 0.8724 - val_accuracy: 0.7437\n",
      "Epoch 14/50\n",
      "9000/9000 [==============================] - 49s 5ms/step - loss: 0.7985 - accuracy: 0.7561 - val_loss: 0.7884 - val_accuracy: 0.7622\n",
      "Epoch 15/50\n",
      "9000/9000 [==============================] - 44s 5ms/step - loss: 0.6991 - accuracy: 0.7793 - val_loss: 0.7248 - val_accuracy: 0.7705\n",
      "Epoch 16/50\n",
      "9000/9000 [==============================] - 43s 5ms/step - loss: 0.6365 - accuracy: 0.7924 - val_loss: 0.6718 - val_accuracy: 0.7832\n",
      "Epoch 17/50\n",
      "9000/9000 [==============================] - 43s 5ms/step - loss: 0.5857 - accuracy: 0.8066 - val_loss: 0.6352 - val_accuracy: 0.7900\n",
      "Epoch 18/50\n",
      "9000/9000 [==============================] - 43s 5ms/step - loss: 0.5401 - accuracy: 0.8170 - val_loss: 0.6170 - val_accuracy: 0.7927\n",
      "Epoch 19/50\n",
      "9000/9000 [==============================] - 43s 5ms/step - loss: 0.5070 - accuracy: 0.8267 - val_loss: 0.5863 - val_accuracy: 0.8110\n",
      "Epoch 20/50\n",
      "9000/9000 [==============================] - 43s 5ms/step - loss: 0.4814 - accuracy: 0.8339 - val_loss: 0.5582 - val_accuracy: 0.8142\n",
      "Epoch 21/50\n",
      "9000/9000 [==============================] - 46s 5ms/step - loss: 0.4574 - accuracy: 0.8410 - val_loss: 0.5888 - val_accuracy: 0.8117\n",
      "Epoch 22/50\n",
      "9000/9000 [==============================] - 50s 6ms/step - loss: 0.4305 - accuracy: 0.8472 - val_loss: 0.5528 - val_accuracy: 0.8205\n",
      "Epoch 23/50\n",
      "9000/9000 [==============================] - 49s 5ms/step - loss: 0.4098 - accuracy: 0.8545 - val_loss: 0.5254 - val_accuracy: 0.8288\n",
      "Epoch 24/50\n",
      "9000/9000 [==============================] - 50s 6ms/step - loss: 0.3885 - accuracy: 0.8623 - val_loss: 0.5226 - val_accuracy: 0.8283\n",
      "Epoch 25/50\n",
      "9000/9000 [==============================] - 50s 6ms/step - loss: 0.3751 - accuracy: 0.8649 - val_loss: 0.5177 - val_accuracy: 0.8300\n",
      "Epoch 26/50\n",
      "9000/9000 [==============================] - 49s 5ms/step - loss: 0.3596 - accuracy: 0.8687 - val_loss: 0.5424 - val_accuracy: 0.8338\n",
      "Epoch 27/50\n",
      "9000/9000 [==============================] - 48s 5ms/step - loss: 0.3437 - accuracy: 0.8747 - val_loss: 0.5250 - val_accuracy: 0.8417\n",
      "Epoch 28/50\n",
      "9000/9000 [==============================] - 49s 5ms/step - loss: 0.3284 - accuracy: 0.8791 - val_loss: 0.5088 - val_accuracy: 0.8427\n",
      "Epoch 29/50\n",
      "9000/9000 [==============================] - 48s 5ms/step - loss: 0.3071 - accuracy: 0.8853 - val_loss: 0.4658 - val_accuracy: 0.8522\n",
      "Epoch 30/50\n",
      "9000/9000 [==============================] - 50s 6ms/step - loss: 0.2954 - accuracy: 0.8891 - val_loss: 0.5138 - val_accuracy: 0.8462\n",
      "Epoch 31/50\n",
      "9000/9000 [==============================] - 50s 6ms/step - loss: 0.2860 - accuracy: 0.8939 - val_loss: 0.5254 - val_accuracy: 0.8485\n",
      "Epoch 32/50\n",
      "9000/9000 [==============================] - 46s 5ms/step - loss: 0.2731 - accuracy: 0.8956 - val_loss: 0.4858 - val_accuracy: 0.8557\n",
      "Epoch 33/50\n",
      "9000/9000 [==============================] - 43s 5ms/step - loss: 0.2641 - accuracy: 0.8995 - val_loss: 0.4879 - val_accuracy: 0.8518\n",
      "Epoch 34/50\n",
      "9000/9000 [==============================] - 43s 5ms/step - loss: 0.2541 - accuracy: 0.9024 - val_loss: 0.5160 - val_accuracy: 0.8567\n",
      "Epoch 35/50\n",
      "9000/9000 [==============================] - 43s 5ms/step - loss: 0.2465 - accuracy: 0.9048 - val_loss: 0.5119 - val_accuracy: 0.8473\n",
      "Epoch 36/50\n",
      "9000/9000 [==============================] - 45s 5ms/step - loss: 0.2378 - accuracy: 0.9078 - val_loss: 0.4970 - val_accuracy: 0.8578\n",
      "Epoch 37/50\n",
      "9000/9000 [==============================] - 45s 5ms/step - loss: 0.2322 - accuracy: 0.9095 - val_loss: 0.4806 - val_accuracy: 0.8568\n",
      "Epoch 38/50\n",
      "9000/9000 [==============================] - 46s 5ms/step - loss: 0.2245 - accuracy: 0.9121 - val_loss: 0.4816 - val_accuracy: 0.8572\n",
      "Epoch 39/50\n",
      "9000/9000 [==============================] - 45s 5ms/step - loss: 0.2135 - accuracy: 0.9149 - val_loss: 0.5191 - val_accuracy: 0.8568\n",
      "Epoch 40/50\n",
      "9000/9000 [==============================] - 45s 5ms/step - loss: 0.2073 - accuracy: 0.9181 - val_loss: 0.5232 - val_accuracy: 0.8567\n",
      "Epoch 41/50\n",
      "9000/9000 [==============================] - 44s 5ms/step - loss: 0.1996 - accuracy: 0.9208 - val_loss: 0.5123 - val_accuracy: 0.8663\n",
      "Epoch 42/50\n",
      "9000/9000 [==============================] - 44s 5ms/step - loss: 0.1928 - accuracy: 0.9225 - val_loss: 0.4988 - val_accuracy: 0.8658\n",
      "Epoch 43/50\n",
      "9000/9000 [==============================] - 44s 5ms/step - loss: 0.1928 - accuracy: 0.9242 - val_loss: 0.5396 - val_accuracy: 0.8582\n",
      "Epoch 44/50\n",
      "9000/9000 [==============================] - 43s 5ms/step - loss: 0.1901 - accuracy: 0.9247 - val_loss: 0.5315 - val_accuracy: 0.8598\n",
      "Epoch 45/50\n",
      "9000/9000 [==============================] - 44s 5ms/step - loss: 0.1791 - accuracy: 0.9286 - val_loss: 0.5164 - val_accuracy: 0.8655\n",
      "Epoch 46/50\n",
      "9000/9000 [==============================] - 44s 5ms/step - loss: 0.1765 - accuracy: 0.9299 - val_loss: 0.5385 - val_accuracy: 0.8615\n",
      "Epoch 47/50\n",
      "9000/9000 [==============================] - 45s 5ms/step - loss: 0.1727 - accuracy: 0.9319 - val_loss: 0.5219 - val_accuracy: 0.8650\n",
      "Epoch 48/50\n",
      "9000/9000 [==============================] - 45s 5ms/step - loss: 0.1774 - accuracy: 0.9310 - val_loss: 0.5016 - val_accuracy: 0.8705\n",
      "Epoch 49/50\n",
      "9000/9000 [==============================] - 44s 5ms/step - loss: 0.1584 - accuracy: 0.9354 - val_loss: 0.5464 - val_accuracy: 0.8660\n",
      "Epoch 50/50\n",
      "9000/9000 [==============================] - 45s 5ms/step - loss: 0.1538 - accuracy: 0.9383 - val_loss: 0.5315 - val_accuracy: 0.8655\n"
     ]
    }
   ],
   "source": [
    "#model = create_model()\n",
    "hist = model.fit(train_x, train_y, batch_size=32, epochs=50,verbose=1, validation_data=(test_x, test_y))"
   ]
  },
  {
   "cell_type": "code",
   "execution_count": 24,
   "metadata": {},
   "outputs": [
    {
     "name": "stdout",
     "output_type": "stream",
     "text": [
      "1000/1000 [==============================] - 2s 2ms/step\n",
      "Test Loss and accuracy: [0.5314826798439026, 0.8654999732971191]\n"
     ]
    }
   ],
   "source": [
    "score= model.evaluate(test_x,test_y,verbose=1)\n",
    "print('Test Loss and accuracy:', score)"
   ]
  },
  {
   "cell_type": "code",
   "execution_count": 25,
   "metadata": {},
   "outputs": [],
   "source": [
    "# Define function to predict captcha\n",
    "def predict(filepath):\n",
    "    img = cv2.imread(filepath, cv2.IMREAD_GRAYSCALE)\n",
    "    #print(\"img\",img.shape)\n",
    "    if(img is not None):\n",
    "        img = cv2.resize(img, (160,100))\n",
    "    if img is not None:\n",
    "        img = img / 255.0\n",
    "    else:\n",
    "        print(\"Not detected\");\n",
    "    res = np.array(model.predict(img[np.newaxis, :, :, np.newaxis]))\n",
    "    ans = np.reshape(res, (6, 62))\n",
    "    l_ind = []\n",
    "    probs = []\n",
    "    for a in ans:\n",
    "        l_ind.append(np.argmax(a))\n",
    "        #probs.append(np.max(a))\n",
    "\n",
    "    capt = ''\n",
    "    for l in l_ind:\n",
    "        capt += characters[l]\n",
    "    return capt#, sum(probs) / 5"
   ]
  },
  {
   "cell_type": "code",
   "execution_count": 27,
   "metadata": {},
   "outputs": [
    {
     "name": "stdout",
     "output_type": "stream",
     "text": [
      "012345 predicted :  01234s\n",
      "012346 predicted :  0123g6\n",
      "012347 predicted :  012347\n",
      "012348 predicted :  0123A8\n",
      "012349 predicted :  012349\n",
      "01234A predicted :  01234A\n",
      "01234a predicted :  01234a\n",
      "01234B predicted :  01234B\n",
      "01234b predicted :  01234b\n",
      "01234c predicted :  01234c\n",
      "01234C predicted :  01234C\n",
      "01234d predicted :  0123Ad\n",
      "01234D predicted :  01234O\n",
      "01234e predicted :  01234e\n",
      "01234E predicted :  01234E\n",
      "01234F predicted :  01234F\n",
      "01234f predicted :  01234f\n",
      "01234G predicted :  01234G\n",
      "01234g predicted :  01234g\n",
      "01234H predicted :  01234H\n"
     ]
    }
   ],
   "source": [
    "for i in all_images[:20]:\n",
    "    #print(i)\n",
    "    #model.evaluate(X_test, [y_test[0], y_test[1], y_test[2], y_test[3], y_test[4]])\n",
    "    print(i[:6],\"predicted : \",predict(r'C:\\Users\\mpspa\\Desktop\\Kaggle\\Captcha\\captcha-tensorflow-master\\datasets\\images\\char-6-epoch-6/temp/'+i))\n",
    "    "
   ]
  },
  {
   "cell_type": "code",
   "execution_count": 28,
   "metadata": {},
   "outputs": [],
   "source": [
    "# --------------------Saving Model --------------------------------------\n",
    "\n",
    "\n",
    "model.save_weights(r'C:\\Users\\mpspa\\Desktop\\Github\\MLDLNLP\\captcha_destroyer\\model_files/model_weights.h5')\n",
    "\n",
    "# Save the model architecture\n",
    "with open(r'C:\\Users\\mpspa\\Desktop\\Github\\MLDLNLP\\captcha_destroyer\\model_files/model_architecture.json', 'w') as f:\n",
    "    f.write(model.to_json())"
   ]
  },
  {
   "cell_type": "code",
   "execution_count": 30,
   "metadata": {},
   "outputs": [],
   "source": [
    "# ------------------------------Loading ---------------------------------\n",
    "\n",
    "from keras.models import model_from_json\n",
    "\n",
    "# Model reconstruction from JSON file\n",
    "with open(r'C:\\Users\\mpspa\\Desktop\\Github\\MLDLNLP\\captcha_destroyer\\model_files\\model_architecture.json', 'r') as f:\n",
    "    model1 = model_from_json(f.read())\n",
    "\n",
    "# Load weights into the new model\n",
    "model1.load_weights(r'C:\\Users\\mpspa\\Desktop\\Github\\MLDLNLP\\captcha_destroyer\\model_files\\model_weights.h5')"
   ]
  },
  {
   "cell_type": "code",
   "execution_count": null,
   "metadata": {},
   "outputs": [],
   "source": []
  },
  {
   "cell_type": "code",
   "execution_count": 31,
   "metadata": {},
   "outputs": [],
   "source": [
    "# Define function to predict captcha\n",
    "def predict1(filepath):\n",
    "    img = cv2.imread(filepath, cv2.IMREAD_GRAYSCALE)\n",
    "    #print(\"img\",img.shape)\n",
    "    if(img is not None):\n",
    "        img = cv2.resize(img, (160,100))\n",
    "    if img is not None:\n",
    "        img = img / 255.0\n",
    "    else:\n",
    "        print(\"Not detected\");\n",
    "    res = np.array(model1.predict(img[np.newaxis, :, :, np.newaxis]))\n",
    "    ans = np.reshape(res, (6, 62))\n",
    "    l_ind = []\n",
    "    probs = []\n",
    "    for a in ans:\n",
    "        l_ind.append(np.argmax(a))\n",
    "        #probs.append(np.max(a))\n",
    "\n",
    "    capt = ''\n",
    "    for l in l_ind:\n",
    "        capt += characters[l]\n",
    "    return capt#, sum(probs) / 5"
   ]
  },
  {
   "cell_type": "code",
   "execution_count": 32,
   "metadata": {},
   "outputs": [
    {
     "name": "stdout",
     "output_type": "stream",
     "text": [
      "012345 predicted :  01234s\n",
      "012346 predicted :  0123g6\n",
      "012347 predicted :  012347\n",
      "012348 predicted :  0123A8\n",
      "012349 predicted :  012349\n",
      "01234A predicted :  01234A\n",
      "01234a predicted :  01234a\n",
      "01234B predicted :  01234B\n",
      "01234b predicted :  01234b\n",
      "01234c predicted :  01234c\n",
      "01234C predicted :  01234C\n",
      "01234d predicted :  0123Ad\n",
      "01234D predicted :  01234O\n",
      "01234e predicted :  01234e\n",
      "01234E predicted :  01234E\n",
      "01234F predicted :  01234F\n",
      "01234f predicted :  01234f\n",
      "01234G predicted :  01234G\n",
      "01234g predicted :  01234g\n",
      "01234H predicted :  01234H\n"
     ]
    }
   ],
   "source": [
    "for i in all_images[:20]:\n",
    "    #print(i)\n",
    "    #model.evaluate(X_test, [y_test[0], y_test[1], y_test[2], y_test[3], y_test[4]])\n",
    "    print(i[:6],\"predicted : \",predict1(r'C:\\Users\\mpspa\\Desktop\\Kaggle\\Captcha\\captcha-tensorflow-master\\datasets\\images\\char-6-epoch-6/temp/'+i))\n",
    "    "
   ]
  },
  {
   "cell_type": "code",
   "execution_count": null,
   "metadata": {},
   "outputs": [],
   "source": []
  }
 ],
 "metadata": {
  "kernelspec": {
   "display_name": "Python 3",
   "language": "python",
   "name": "python3"
  },
  "language_info": {
   "codemirror_mode": {
    "name": "ipython",
    "version": 3
   },
   "file_extension": ".py",
   "mimetype": "text/x-python",
   "name": "python",
   "nbconvert_exporter": "python",
   "pygments_lexer": "ipython3",
   "version": "3.7.4"
  }
 },
 "nbformat": 4,
 "nbformat_minor": 4
}
