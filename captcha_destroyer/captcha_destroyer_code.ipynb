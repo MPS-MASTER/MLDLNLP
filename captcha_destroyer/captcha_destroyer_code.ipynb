{
 "cells": [
  {
   "cell_type": "code",
   "execution_count": 1,
   "metadata": {
    "_cell_guid": "b1076dfc-b9ad-4769-8c92-a6c4dae69d19",
    "_uuid": "8f2839f25d086af736a60e9eeb907d3b93b6e0e5"
   },
   "outputs": [],
   "source": [
    "# This Python 3 environment comes with many helpful analytics libraries installed\n",
    "# It is defined by the kaggle/python Docker image: https://github.com/kaggle/docker-python\n",
    "# For example, here's several helpful packages to load\n",
    "\n",
    "import numpy as np # linear algebra\n",
    "import pandas as pd # data processing, CSV file I/O (e.g. pd.read_csv)\n",
    "\n",
    "# Input data files are available in the read-only \"../input/\" directory\n",
    "# For example, running this (by clicking run or pressing Shift+Enter) will list all files under the input directory\n",
    "\n",
    "import os\n",
    "for dirname, _, filenames in os.walk(r'C:\\Users\\mpspa\\Desktop\\Kaggle\\Captcha\\captcha-tensorflow-master\\datasets\\images\\char-6-epoch-6\\temp'):\n",
    "    for filename in filenames:\n",
    "        a = 1\n",
    "        #print(os.path.join(dirname, filename))\n",
    "\n",
    "# You can write up to 5GB to the current directory (/kaggle/working/) that gets preserved as output when you create a version using \"Save & Run All\" \n",
    "# You can also write temporary files to /kaggle/temp/, but they won't be saved outside of the current session"
   ]
  },
  {
   "cell_type": "code",
   "execution_count": 2,
   "metadata": {
    "_cell_guid": "79c7e3d0-c299-4dcb-8224-4455121ee9b0",
    "_uuid": "d629ff2d2480ee46fbb7e2d37f6b5fab8052498a"
   },
   "outputs": [],
   "source": [
    "import os\n",
    "\n",
    "lst = os.listdir(r'C:\\Users\\mpspa\\Desktop\\Kaggle\\Captcha\\captcha-tensorflow-master\\datasets\\images\\char-6-epoch-6\\temp')"
   ]
  },
  {
   "cell_type": "code",
   "execution_count": 3,
   "metadata": {
    "_kg_hide-output": true
   },
   "outputs": [
    {
     "data": {
      "text/plain": [
       "10000"
      ]
     },
     "execution_count": 3,
     "metadata": {},
     "output_type": "execute_result"
    }
   ],
   "source": [
    "len(lst)"
   ]
  },
  {
   "cell_type": "code",
   "execution_count": 4,
   "metadata": {},
   "outputs": [],
   "source": [
    "import pandas as pd\n",
    "import numpy as np\n",
    "import matplotlib.pyplot as plt"
   ]
  },
  {
   "cell_type": "code",
   "execution_count": 5,
   "metadata": {},
   "outputs": [
    {
     "name": "stderr",
     "output_type": "stream",
     "text": [
      "Using TensorFlow backend.\n"
     ]
    }
   ],
   "source": [
    "import keras\n",
    "from keras.models import Sequential\n",
    "from keras.layers import Conv2D, MaxPooling2D, Dropout, Flatten, Dense, Activation, BatchNormalization,LSTM, Reshape, SimpleRNN\n",
    "from keras.layers.recurrent import GRU\n",
    "from keras.models import model_from_json"
   ]
  },
  {
   "cell_type": "code",
   "execution_count": 6,
   "metadata": {},
   "outputs": [],
   "source": [
    "import os\n",
    "import string\n",
    "import cv2"
   ]
  },
  {
   "cell_type": "code",
   "execution_count": 7,
   "metadata": {},
   "outputs": [
    {
     "data": {
      "text/plain": [
       "'abcdefghijklmnopqrstuvwxyz0123456789ABCDEFGHIJKLMNOPQRSTUVWXYZ'"
      ]
     },
     "execution_count": 7,
     "metadata": {},
     "output_type": "execute_result"
    }
   ],
   "source": [
    "characters = string.ascii_lowercase+\"0123456789\"+string.ascii_uppercase\n",
    "characters"
   ]
  },
  {
   "cell_type": "code",
   "execution_count": 9,
   "metadata": {},
   "outputs": [
    {
     "data": {
      "text/plain": [
       "62"
      ]
     },
     "execution_count": 9,
     "metadata": {},
     "output_type": "execute_result"
    }
   ],
   "source": [
    "len(characters)"
   ]
  },
  {
   "cell_type": "code",
   "execution_count": 9,
   "metadata": {},
   "outputs": [],
   "source": [
    "all_images =  os.listdir(r'C:\\Users\\mpspa\\Desktop\\Kaggle\\Captcha\\captcha-tensorflow-master\\datasets\\images\\char-6-epoch-6\\temp')"
   ]
  },
  {
   "cell_type": "code",
   "execution_count": 10,
   "metadata": {},
   "outputs": [
    {
     "data": {
      "text/plain": [
       "('01264j_fb013834-b39d-4788-875b-4d069eb3a264.png', 10000)"
      ]
     },
     "execution_count": 10,
     "metadata": {},
     "output_type": "execute_result"
    }
   ],
   "source": [
    "all_images[-1], len(all_images)"
   ]
  },
  {
   "cell_type": "code",
   "execution_count": null,
   "metadata": {},
   "outputs": [],
   "source": []
  },
  {
   "cell_type": "code",
   "execution_count": 13,
   "metadata": {},
   "outputs": [],
   "source": [
    "def preprocess_data():\n",
    "    \n",
    "    inp_x = np.zeros((len(all_images), 100,160,1))\n",
    "    inp_y = np.zeros((len(all_images), 6,len(characters)))\n",
    "    for idx, image in enumerate(all_images):\n",
    "        # ----------------prepare input container\n",
    "        \n",
    "        \n",
    "        img = cv2.imread(r\"C:\\Users\\mpspa\\Desktop\\Kaggle\\Captcha\\captcha-tensorflow-master\\datasets\\images\\char-6-epoch-6\\temp/\"+image, cv2.IMREAD_GRAYSCALE)\n",
    "        #print(np.max(img))\n",
    "        #plt.imshow(img)\n",
    "        #print(img.shape)\n",
    "        \n",
    "        # ---------------------Scale images --------------\n",
    "        \n",
    "        img = img/255.0\n",
    "        \n",
    "        image_txt = image[0:6]\n",
    "        target_oht = np.zeros((5,len(characters)))\n",
    "        if(len(image_txt)<7):\n",
    "            img = np.reshape(img, (100,160,1))\n",
    "            inp_x[idx] = img\n",
    "            \n",
    "             # ------------------Define targets and code them using OneHotEncoding\n",
    "            target_oht = np.zeros((6,len(characters)))\n",
    "            for k, char in enumerate(image_txt):\n",
    "                target_oht[k, characters.find(char)] = 1\n",
    "            inp_y[idx] = target_oht\n",
    "    return inp_x, inp_y\n",
    "        \n",
    "               \n",
    "        \n",
    "        \n",
    "        "
   ]
  },
  {
   "cell_type": "code",
   "execution_count": 14,
   "metadata": {},
   "outputs": [],
   "source": [
    "X, Y = preprocess_data()"
   ]
  },
  {
   "cell_type": "code",
   "execution_count": 15,
   "metadata": {},
   "outputs": [],
   "source": [
    "from sklearn.model_selection import train_test_split"
   ]
  },
  {
   "cell_type": "code",
   "execution_count": 16,
   "metadata": {},
   "outputs": [],
   "source": [
    "train_x ,test_x, train_y ,test_y = train_test_split(X,Y, shuffle = True, test_size = .1)"
   ]
  },
  {
   "cell_type": "code",
   "execution_count": 17,
   "metadata": {},
   "outputs": [
    {
     "data": {
      "text/plain": [
       "((9000, 100, 160, 1), (9000, 6, 62), (1000, 100, 160, 1), (1000, 6, 62))"
      ]
     },
     "execution_count": 17,
     "metadata": {},
     "output_type": "execute_result"
    }
   ],
   "source": [
    "train_x.shape,train_y.shape, test_x.shape,test_y.shape"
   ]
  },
  {
   "cell_type": "code",
   "execution_count": 18,
   "metadata": {},
   "outputs": [],
   "source": [
    "model = Sequential()"
   ]
  },
  {
   "cell_type": "code",
   "execution_count": 19,
   "metadata": {},
   "outputs": [],
   "source": [
    "def prepare_model():\n",
    "    model.add(Conv2D(128, (3,3), input_shape = (100,160,1) ,padding = 'same', activation = 'relu'))\n",
    "    #model.add(Dropout(.1))\n",
    "    #model.add(BatchNormalization())\n",
    "    model.add(MaxPooling2D(pool_size = (2,2),padding ='same'))\n",
    "    model.add(Conv2D(64, (3,3), activation = 'relu', padding = 'same',))\n",
    "    #model.add(Dropout(.1))\n",
    "    #model.add(BatchNormalization())\n",
    "    #model.add(MaxPooling2D(pool_size =(3,3),padding ='same'))\n",
    "    model.add(Conv2D(64, (3,3), activation = 'relu', padding = 'same'))\n",
    "    #model.add(Dropout(.1))\n",
    "    #model.add(BatchNormalization())\n",
    "    model.add(MaxPooling2D(pool_size = (3,3),padding ='same'))\n",
    "    model.add(Conv2D(32, (3,3), activation = 'relu', padding = 'same'))\n",
    "  \n",
    "    #model.add(BatchNormalization())\n",
    "    model.add(MaxPooling2D(pool_size = (3,3),padding ='same'))\n",
    "    model.add(Conv2D(64, (3,3), activation = 'relu', padding = 'same'))\n",
    "    model.add(MaxPooling2D(pool_size = (1,1),padding ='same'))\n",
    "    model.add(Conv2D(32, (3,3), activation = 'relu', padding = 'same'))\n",
    "    model.add(MaxPooling2D(pool_size = (1,1),padding ='same'))\n",
    "    print(model.output_shape)\n",
    "    model.add(Reshape((model.output_shape[1], model.output_shape[2]*model.output_shape[3])))\n",
    "    print(model.output_shape)\n",
    "    #model.add(LSTM(50, batch_input_shape=(2,5,36),stateful = True, return_sequences = True))\n",
    "    model.add(SimpleRNN(50, return_sequences = True,activation = 'relu'))\n",
    "    model.add(SimpleRNN(50, return_sequences = True,activation = 'relu'))\n",
    "    model.add(SimpleRNN(50, return_sequences = True,activation = 'relu'))\n",
    "  \n",
    "\n",
    "\n",
    "    model.add(Dense(62, activation = \"softmax\"))\n",
    "    model.compile(loss=keras.losses.categorical_crossentropy,\n",
    "              optimizer=keras.optimizers.Adam(),\n",
    "              metrics=['accuracy'])\n",
    "   \n",
    "    return model\n",
    "    "
   ]
  },
  {
   "cell_type": "code",
   "execution_count": 20,
   "metadata": {},
   "outputs": [
    {
     "name": "stdout",
     "output_type": "stream",
     "text": [
      "(None, 6, 9, 32)\n",
      "(None, 6, 288)\n"
     ]
    }
   ],
   "source": [
    "model =prepare_model()"
   ]
  },
  {
   "cell_type": "code",
   "execution_count": 21,
   "metadata": {},
   "outputs": [
    {
     "name": "stdout",
     "output_type": "stream",
     "text": [
      "Model: \"sequential_1\"\n",
      "_________________________________________________________________\n",
      "Layer (type)                 Output Shape              Param #   \n",
      "=================================================================\n",
      "conv2d_1 (Conv2D)            (None, 100, 160, 128)     1280      \n",
      "_________________________________________________________________\n",
      "max_pooling2d_1 (MaxPooling2 (None, 50, 80, 128)       0         \n",
      "_________________________________________________________________\n",
      "conv2d_2 (Conv2D)            (None, 50, 80, 64)        73792     \n",
      "_________________________________________________________________\n",
      "conv2d_3 (Conv2D)            (None, 50, 80, 64)        36928     \n",
      "_________________________________________________________________\n",
      "max_pooling2d_2 (MaxPooling2 (None, 17, 27, 64)        0         \n",
      "_________________________________________________________________\n",
      "conv2d_4 (Conv2D)            (None, 17, 27, 32)        18464     \n",
      "_________________________________________________________________\n",
      "max_pooling2d_3 (MaxPooling2 (None, 6, 9, 32)          0         \n",
      "_________________________________________________________________\n",
      "conv2d_5 (Conv2D)            (None, 6, 9, 64)          18496     \n",
      "_________________________________________________________________\n",
      "max_pooling2d_4 (MaxPooling2 (None, 6, 9, 64)          0         \n",
      "_________________________________________________________________\n",
      "conv2d_6 (Conv2D)            (None, 6, 9, 32)          18464     \n",
      "_________________________________________________________________\n",
      "max_pooling2d_5 (MaxPooling2 (None, 6, 9, 32)          0         \n",
      "_________________________________________________________________\n",
      "reshape_1 (Reshape)          (None, 6, 288)            0         \n",
      "_________________________________________________________________\n",
      "simple_rnn_1 (SimpleRNN)     (None, 6, 50)             16950     \n",
      "_________________________________________________________________\n",
      "simple_rnn_2 (SimpleRNN)     (None, 6, 50)             5050      \n",
      "_________________________________________________________________\n",
      "simple_rnn_3 (SimpleRNN)     (None, 6, 50)             5050      \n",
      "_________________________________________________________________\n",
      "dense_1 (Dense)              (None, 6, 62)             3162      \n",
      "=================================================================\n",
      "Total params: 197,636\n",
      "Trainable params: 197,636\n",
      "Non-trainable params: 0\n",
      "_________________________________________________________________\n"
     ]
    }
   ],
   "source": [
    "model.summary()"
   ]
  },
  {
   "cell_type": "code",
   "execution_count": 31,
   "metadata": {},
   "outputs": [
    {
     "name": "stdout",
     "output_type": "stream",
     "text": [
      "Train on 9000 samples, validate on 1000 samples\n",
      "Epoch 1/50\n",
      "9000/9000 [==============================] - 11s 1ms/step - loss: 1.7058 - accuracy: 0.5376 - val_loss: 1.5678 - val_accuracy: 0.5650\n",
      "Epoch 2/50\n",
      "9000/9000 [==============================] - 10s 1ms/step - loss: 1.5651 - accuracy: 0.5596 - val_loss: 1.5597 - val_accuracy: 0.5632\n",
      "Epoch 3/50\n",
      "9000/9000 [==============================] - 10s 1ms/step - loss: 1.5584 - accuracy: 0.5603 - val_loss: 1.5575 - val_accuracy: 0.5637\n",
      "Epoch 4/50\n",
      "9000/9000 [==============================] - 10s 1ms/step - loss: 1.5564 - accuracy: 0.5597 - val_loss: 1.5588 - val_accuracy: 0.5590\n",
      "Epoch 5/50\n",
      "9000/9000 [==============================] - 10s 1ms/step - loss: 1.5542 - accuracy: 0.5583 - val_loss: 1.5552 - val_accuracy: 0.5592\n",
      "Epoch 6/50\n",
      "9000/9000 [==============================] - 10s 1ms/step - loss: 1.5527 - accuracy: 0.5605 - val_loss: 1.5541 - val_accuracy: 0.5580\n",
      "Epoch 7/50\n",
      "9000/9000 [==============================] - 10s 1ms/step - loss: 1.5513 - accuracy: 0.5610 - val_loss: 1.5584 - val_accuracy: 0.5547\n",
      "Epoch 8/50\n",
      "9000/9000 [==============================] - 10s 1ms/step - loss: 1.5514 - accuracy: 0.5612 - val_loss: 1.5534 - val_accuracy: 0.5588\n",
      "Epoch 9/50\n",
      "9000/9000 [==============================] - 11s 1ms/step - loss: 1.5511 - accuracy: 0.5611 - val_loss: 1.5537 - val_accuracy: 0.5572\n",
      "Epoch 10/50\n",
      "9000/9000 [==============================] - 10s 1ms/step - loss: 1.5512 - accuracy: 0.5598 - val_loss: 1.5521 - val_accuracy: 0.5628\n",
      "Epoch 11/50\n",
      "9000/9000 [==============================] - 10s 1ms/step - loss: 1.5502 - accuracy: 0.5607 - val_loss: 1.5541 - val_accuracy: 0.5602\n",
      "Epoch 12/50\n",
      "9000/9000 [==============================] - 10s 1ms/step - loss: 1.4866 - accuracy: 0.6158 - val_loss: 1.4320 - val_accuracy: 0.6465\n",
      "Epoch 13/50\n",
      "9000/9000 [==============================] - 10s 1ms/step - loss: 1.4093 - accuracy: 0.6550 - val_loss: 1.3905 - val_accuracy: 0.6632\n",
      "Epoch 14/50\n",
      "9000/9000 [==============================] - 10s 1ms/step - loss: 1.3069 - accuracy: 0.6726 - val_loss: 1.2204 - val_accuracy: 0.6847\n",
      "Epoch 15/50\n",
      "9000/9000 [==============================] - 11s 1ms/step - loss: 1.1339 - accuracy: 0.6986 - val_loss: 1.0697 - val_accuracy: 0.7122\n",
      "Epoch 16/50\n",
      "9000/9000 [==============================] - 10s 1ms/step - loss: 0.9871 - accuracy: 0.7267 - val_loss: 0.9512 - val_accuracy: 0.7330\n",
      "Epoch 17/50\n",
      "9000/9000 [==============================] - 9s 1ms/step - loss: 0.8724 - accuracy: 0.7469 - val_loss: 0.8472 - val_accuracy: 0.7530\n",
      "Epoch 18/50\n",
      "9000/9000 [==============================] - 10s 1ms/step - loss: 0.7848 - accuracy: 0.7633 - val_loss: 0.7901 - val_accuracy: 0.7638\n",
      "Epoch 19/50\n",
      "9000/9000 [==============================] - 10s 1ms/step - loss: 0.7194 - accuracy: 0.7756 - val_loss: 0.7418 - val_accuracy: 0.7758\n",
      "Epoch 20/50\n",
      "9000/9000 [==============================] - 10s 1ms/step - loss: 0.6642 - accuracy: 0.7881 - val_loss: 0.6866 - val_accuracy: 0.7873\n",
      "Epoch 21/50\n",
      "9000/9000 [==============================] - 11s 1ms/step - loss: 0.6053 - accuracy: 0.8022 - val_loss: 0.6376 - val_accuracy: 0.7967\n",
      "Epoch 22/50\n",
      "9000/9000 [==============================] - 10s 1ms/step - loss: 0.5479 - accuracy: 0.8172 - val_loss: 0.5945 - val_accuracy: 0.8143\n",
      "Epoch 23/50\n",
      "9000/9000 [==============================] - 10s 1ms/step - loss: 0.4940 - accuracy: 0.8324 - val_loss: 0.5859 - val_accuracy: 0.8082\n",
      "Epoch 24/50\n",
      "9000/9000 [==============================] - 10s 1ms/step - loss: 0.4573 - accuracy: 0.8423 - val_loss: 0.5211 - val_accuracy: 0.8337\n",
      "Epoch 25/50\n",
      "9000/9000 [==============================] - 10s 1ms/step - loss: 0.4320 - accuracy: 0.8481 - val_loss: 0.5205 - val_accuracy: 0.8290\n",
      "Epoch 26/50\n",
      "9000/9000 [==============================] - 10s 1ms/step - loss: 0.4029 - accuracy: 0.8559 - val_loss: 0.4944 - val_accuracy: 0.8372\n",
      "Epoch 27/50\n",
      "9000/9000 [==============================] - 11s 1ms/step - loss: 0.3823 - accuracy: 0.8626 - val_loss: 0.5097 - val_accuracy: 0.8392\n",
      "Epoch 28/50\n",
      "9000/9000 [==============================] - 10s 1ms/step - loss: 0.3638 - accuracy: 0.8694 - val_loss: 0.4816 - val_accuracy: 0.8400\n",
      "Epoch 29/50\n",
      "9000/9000 [==============================] - 10s 1ms/step - loss: 0.3472 - accuracy: 0.8738 - val_loss: 0.4795 - val_accuracy: 0.8450\n",
      "Epoch 30/50\n",
      "9000/9000 [==============================] - 10s 1ms/step - loss: 0.3367 - accuracy: 0.8765 - val_loss: 0.4652 - val_accuracy: 0.8462\n",
      "Epoch 31/50\n",
      "9000/9000 [==============================] - 10s 1ms/step - loss: 0.3228 - accuracy: 0.8795 - val_loss: 0.4542 - val_accuracy: 0.8477\n",
      "Epoch 32/50\n",
      "9000/9000 [==============================] - 10s 1ms/step - loss: 0.3064 - accuracy: 0.8842 - val_loss: 0.4468 - val_accuracy: 0.8528\n",
      "Epoch 33/50\n",
      "9000/9000 [==============================] - 11s 1ms/step - loss: 0.2983 - accuracy: 0.8873 - val_loss: 0.4593 - val_accuracy: 0.8548\n",
      "Epoch 34/50\n",
      "9000/9000 [==============================] - 10s 1ms/step - loss: 0.2877 - accuracy: 0.8906 - val_loss: 0.4626 - val_accuracy: 0.8552\n",
      "Epoch 35/50\n",
      "9000/9000 [==============================] - 10s 1ms/step - loss: 0.2766 - accuracy: 0.8944 - val_loss: 0.4751 - val_accuracy: 0.8535\n",
      "Epoch 36/50\n",
      "9000/9000 [==============================] - 10s 1ms/step - loss: 0.2739 - accuracy: 0.8959 - val_loss: 0.4530 - val_accuracy: 0.8602\n",
      "Epoch 37/50\n",
      "9000/9000 [==============================] - 10s 1ms/step - loss: 0.2622 - accuracy: 0.8982 - val_loss: 0.4782 - val_accuracy: 0.8592\n",
      "Epoch 38/50\n",
      "9000/9000 [==============================] - 10s 1ms/step - loss: 0.2537 - accuracy: 0.9014 - val_loss: 0.4867 - val_accuracy: 0.8508\n",
      "Epoch 39/50\n",
      "9000/9000 [==============================] - 10s 1ms/step - loss: 0.2441 - accuracy: 0.9057 - val_loss: 0.4662 - val_accuracy: 0.8580\n",
      "Epoch 40/50\n",
      "9000/9000 [==============================] - 10s 1ms/step - loss: 0.2353 - accuracy: 0.9072 - val_loss: 0.4903 - val_accuracy: 0.8578\n",
      "Epoch 41/50\n",
      "9000/9000 [==============================] - 10s 1ms/step - loss: 0.2302 - accuracy: 0.9096 - val_loss: 0.5069 - val_accuracy: 0.8585\n",
      "Epoch 42/50\n",
      "9000/9000 [==============================] - 10s 1ms/step - loss: 0.2259 - accuracy: 0.9127 - val_loss: 0.4841 - val_accuracy: 0.8607\n",
      "Epoch 43/50\n",
      "9000/9000 [==============================] - 10s 1ms/step - loss: 0.2142 - accuracy: 0.9146 - val_loss: 0.4799 - val_accuracy: 0.8585\n",
      "Epoch 44/50\n",
      "9000/9000 [==============================] - 10s 1ms/step - loss: 0.2136 - accuracy: 0.9161 - val_loss: 0.4886 - val_accuracy: 0.8590\n",
      "Epoch 45/50\n",
      "9000/9000 [==============================] - 11s 1ms/step - loss: 0.2104 - accuracy: 0.9164 - val_loss: 0.4904 - val_accuracy: 0.8628\n",
      "Epoch 46/50\n",
      "9000/9000 [==============================] - 10s 1ms/step - loss: 0.1991 - accuracy: 0.9201 - val_loss: 0.5135 - val_accuracy: 0.8592\n",
      "Epoch 47/50\n",
      "9000/9000 [==============================] - 10s 1ms/step - loss: 0.1957 - accuracy: 0.9209 - val_loss: 0.4956 - val_accuracy: 0.8657\n",
      "Epoch 48/50\n",
      "9000/9000 [==============================] - 10s 1ms/step - loss: 0.1965 - accuracy: 0.9220 - val_loss: 0.4968 - val_accuracy: 0.8632\n",
      "Epoch 49/50\n",
      "9000/9000 [==============================] - 10s 1ms/step - loss: 0.1868 - accuracy: 0.9241 - val_loss: 0.5113 - val_accuracy: 0.8555\n",
      "Epoch 50/50\n",
      "9000/9000 [==============================] - 10s 1ms/step - loss: 0.1876 - accuracy: 0.9247 - val_loss: 0.5315 - val_accuracy: 0.8568\n"
     ]
    }
   ],
   "source": [
    "#model = create_model()\n",
    "hist = model.fit(train_x, train_y, batch_size=32, epochs=50,verbose=1, validation_data=(test_x, test_y))"
   ]
  },
  {
   "cell_type": "code",
   "execution_count": 32,
   "metadata": {},
   "outputs": [
    {
     "name": "stdout",
     "output_type": "stream",
     "text": [
      "1000/1000 [==============================] - 0s 374us/step\n",
      "Test Loss and accuracy: [0.531450226187706, 0.8568333387374878]\n"
     ]
    }
   ],
   "source": [
    "score= model.evaluate(test_x,test_y,verbose=1)\n",
    "print('Test Loss and accuracy:', score)"
   ]
  },
  {
   "cell_type": "code",
   "execution_count": 33,
   "metadata": {},
   "outputs": [],
   "source": [
    "# Define function to predict captcha\n",
    "def predict(filepath):\n",
    "    img = cv2.imread(filepath, cv2.IMREAD_GRAYSCALE)\n",
    "    #print(\"img\",img.shape)\n",
    "    if(img is not None):\n",
    "        img = cv2.resize(img, (160,100))\n",
    "    if img is not None:\n",
    "        img = img / 255.0\n",
    "    else:\n",
    "        print(\"Not detected\");\n",
    "    res = np.array(model.predict(img[np.newaxis, :, :, np.newaxis]))\n",
    "    ans = np.reshape(res, (6, 62))\n",
    "    l_ind = []\n",
    "    probs = []\n",
    "    for a in ans:\n",
    "        l_ind.append(np.argmax(a))\n",
    "        #probs.append(np.max(a))\n",
    "\n",
    "    capt = ''\n",
    "    for l in l_ind:\n",
    "        capt += characters[l]\n",
    "    return capt#, sum(probs) / 5"
   ]
  },
  {
   "cell_type": "code",
   "execution_count": 34,
   "metadata": {},
   "outputs": [
    {
     "name": "stdout",
     "output_type": "stream",
     "text": [
      "0125yn predicted :  0125yn\n",
      "0125Bg predicted :  0125Bg\n",
      "01247N predicted :  01247N\n",
      "0125HG predicted :  0125AG\n",
      "0125fk predicted :  0125Hk\n",
      "0124yB predicted :  0124V8\n",
      "0124IC predicted :  0124Jc\n",
      "0125p8 predicted :  0125q8\n",
      "0123yX predicted :  0123yX\n",
      "0125lz predicted :  0125lZ\n",
      "0123PO predicted :  0123PO\n",
      "0123ST predicted :  0123sT\n",
      "01246c predicted :  01246c\n",
      "0124Tm predicted :  0124Tm\n",
      "0124JD predicted :  0124JD\n",
      "0125pa predicted :  0125pa\n",
      "0123Jp predicted :  0123Up\n",
      "0124ix predicted :  0124JX\n",
      "0124nu predicted :  0124nl\n",
      "01249i predicted :  01249i\n"
     ]
    }
   ],
   "source": [
    "for i in all_images[:20]:\n",
    "\n",
    "    #model.evaluate(X_test, [y_test[0], y_test[1], y_test[2], y_test[3], y_test[4]])\n",
    "    print(i[:6],\"predicted : \",predict('../input/temp/'+i))\n",
    "    "
   ]
  },
  {
   "cell_type": "code",
   "execution_count": 36,
   "metadata": {},
   "outputs": [],
   "source": [
    "# --------------------Saving Model --------------------------------------\n",
    "\n",
    "\n",
    "# serialize model to JSON\n",
    "model_json = model.to_json()\n",
    "with open(\"model.json\", \"w\") as json_file:\n",
    "    json_file.write(model_json)\n",
    "# serialize weights to HDF5\n",
    "model.save_weights(\"model.h5\")\n",
    "print(\"Saved model to disk\")\n",
    " \n",
    "# later...\n",
    " \n"
   ]
  },
  {
   "cell_type": "code",
   "execution_count": 37,
   "metadata": {},
   "outputs": [
    {
     "ename": "FileNotFoundError",
     "evalue": "[Errno 2] No such file or directory: 'model_architecture.json'",
     "output_type": "error",
     "traceback": [
      "\u001b[0;31m---------------------------------------------------------------------------\u001b[0m",
      "\u001b[0;31mFileNotFoundError\u001b[0m                         Traceback (most recent call last)",
      "\u001b[0;32m<ipython-input-37-abe02010f40b>\u001b[0m in \u001b[0;36m<module>\u001b[0;34m\u001b[0m\n\u001b[1;32m      4\u001b[0m \u001b[0;34m\u001b[0m\u001b[0m\n\u001b[1;32m      5\u001b[0m \u001b[0;31m# Model reconstruction from JSON file\u001b[0m\u001b[0;34m\u001b[0m\u001b[0;34m\u001b[0m\u001b[0;34m\u001b[0m\u001b[0m\n\u001b[0;32m----> 6\u001b[0;31m \u001b[0;32mwith\u001b[0m \u001b[0mopen\u001b[0m\u001b[0;34m(\u001b[0m\u001b[0;34m'model_architecture.json'\u001b[0m\u001b[0;34m,\u001b[0m \u001b[0;34m'r'\u001b[0m\u001b[0;34m)\u001b[0m \u001b[0;32mas\u001b[0m \u001b[0mf\u001b[0m\u001b[0;34m:\u001b[0m\u001b[0;34m\u001b[0m\u001b[0;34m\u001b[0m\u001b[0m\n\u001b[0m\u001b[1;32m      7\u001b[0m     \u001b[0mmodel\u001b[0m \u001b[0;34m=\u001b[0m \u001b[0mmodel_from_json\u001b[0m\u001b[0;34m(\u001b[0m\u001b[0mf\u001b[0m\u001b[0;34m.\u001b[0m\u001b[0mread\u001b[0m\u001b[0;34m(\u001b[0m\u001b[0;34m)\u001b[0m\u001b[0;34m)\u001b[0m\u001b[0;34m\u001b[0m\u001b[0;34m\u001b[0m\u001b[0m\n\u001b[1;32m      8\u001b[0m \u001b[0;34m\u001b[0m\u001b[0m\n",
      "\u001b[0;31mFileNotFoundError\u001b[0m: [Errno 2] No such file or directory: 'model_architecture.json'"
     ]
    }
   ],
   "source": [
    "# ------------------------------Loading ---------------------------------\n",
    "\n",
    "# load json and create model\n",
    "json_file = open('model.json', 'r')\n",
    "loaded_model_json = json_file.read()\n",
    "json_file.close()\n",
    "loaded_model = model_from_json(loaded_model_json)\n",
    "# load weights into new model\n",
    "loaded_model.load_weights(\"model.h5\")\n",
    "print(\"Loaded model from disk\")"
   ]
  },
  {
   "cell_type": "code",
   "execution_count": null,
   "metadata": {},
   "outputs": [],
   "source": []
  }
 ],
 "metadata": {
  "kernelspec": {
   "display_name": "Python 3",
   "language": "python",
   "name": "python3"
  },
  "language_info": {
   "codemirror_mode": {
    "name": "ipython",
    "version": 3
   },
   "file_extension": ".py",
   "mimetype": "text/x-python",
   "name": "python",
   "nbconvert_exporter": "python",
   "pygments_lexer": "ipython3",
   "version": "3.7.4"
  }
 },
 "nbformat": 4,
 "nbformat_minor": 4
}
