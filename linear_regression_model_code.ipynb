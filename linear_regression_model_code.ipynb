{
 "cells": [
  {
   "cell_type": "markdown",
   "metadata": {},
   "source": [
    "# --------Making Linear Regression Model Code------"
   ]
  },
  {
   "cell_type": "markdown",
   "metadata": {},
   "source": [
    "#      =========We will use Pandas, Numpy==========="
   ]
  },
  {
   "cell_type": "code",
   "execution_count": 7,
   "metadata": {},
   "outputs": [],
   "source": [
    "#          ========= Developed by Mahesh Patel =================="
   ]
  },
  {
   "cell_type": "code",
   "execution_count": 46,
   "metadata": {},
   "outputs": [],
   "source": [
    "import pandas as pd\n",
    "import numpy as np\n",
    "import matplotlib.pyplot as plt\n",
    "%matplotlib inline\n",
    "import random\n",
    "random.seed(10)"
   ]
  },
  {
   "cell_type": "code",
   "execution_count": 47,
   "metadata": {},
   "outputs": [],
   "source": [
    "# Importing the data for linear regression\n",
    "data = pd.read_csv('datasets//TaxiFareActualsData.csv', sep =',')"
   ]
  },
  {
   "cell_type": "code",
   "execution_count": 48,
   "metadata": {},
   "outputs": [
    {
     "data": {
      "text/plain": [
       "(24, 2)"
      ]
     },
     "execution_count": 48,
     "metadata": {},
     "output_type": "execute_result"
    }
   ],
   "source": [
    "# check the shape of data\n",
    "data.shape"
   ]
  },
  {
   "cell_type": "code",
   "execution_count": 49,
   "metadata": {},
   "outputs": [
    {
     "data": {
      "text/html": [
       "<div>\n",
       "<style scoped>\n",
       "    .dataframe tbody tr th:only-of-type {\n",
       "        vertical-align: middle;\n",
       "    }\n",
       "\n",
       "    .dataframe tbody tr th {\n",
       "        vertical-align: top;\n",
       "    }\n",
       "\n",
       "    .dataframe thead th {\n",
       "        text-align: right;\n",
       "    }\n",
       "</style>\n",
       "<table border=\"1\" class=\"dataframe\">\n",
       "  <thead>\n",
       "    <tr style=\"text-align: right;\">\n",
       "      <th></th>\n",
       "      <th>Distance</th>\n",
       "      <th>Fare</th>\n",
       "    </tr>\n",
       "  </thead>\n",
       "  <tbody>\n",
       "    <tr>\n",
       "      <td>0</td>\n",
       "      <td>0.4</td>\n",
       "      <td>70</td>\n",
       "    </tr>\n",
       "    <tr>\n",
       "      <td>1</td>\n",
       "      <td>7.2</td>\n",
       "      <td>210</td>\n",
       "    </tr>\n",
       "    <tr>\n",
       "      <td>2</td>\n",
       "      <td>1.8</td>\n",
       "      <td>110</td>\n",
       "    </tr>\n",
       "    <tr>\n",
       "      <td>3</td>\n",
       "      <td>3.6</td>\n",
       "      <td>150</td>\n",
       "    </tr>\n",
       "    <tr>\n",
       "      <td>4</td>\n",
       "      <td>4.4</td>\n",
       "      <td>150</td>\n",
       "    </tr>\n",
       "  </tbody>\n",
       "</table>\n",
       "</div>"
      ],
      "text/plain": [
       "   Distance  Fare\n",
       "0       0.4    70\n",
       "1       7.2   210\n",
       "2       1.8   110\n",
       "3       3.6   150\n",
       "4       4.4   150"
      ]
     },
     "execution_count": 49,
     "metadata": {},
     "output_type": "execute_result"
    }
   ],
   "source": [
    "data.head()"
   ]
  },
  {
   "cell_type": "code",
   "execution_count": 50,
   "metadata": {},
   "outputs": [
    {
     "data": {
      "text/plain": [
       "Text(0, 0.5, 'Fare')"
      ]
     },
     "execution_count": 50,
     "metadata": {},
     "output_type": "execute_result"
    },
    {
     "data": {
      "image/png": "[encoded data removed]",
      "text/plain": [
       "<Figure size 432x288 with 1 Axes>"
      ]
     },
     "metadata": {
      "needs_background": "light"
     },
     "output_type": "display_data"
    }
   ],
   "source": [
    "# lets draw our data\n",
    "plt.scatter(data.Distance, data.Fare, color =\"red\")\n",
    "plt.xlabel(\"Distance\")\n",
    "plt.ylabel(\"Fare\")"
   ]
  },
  {
   "cell_type": "markdown",
   "metadata": {},
   "source": [
    "### Will start with defination of line"
   ]
  },
  {
   "cell_type": "markdown",
   "metadata": {},
   "source": [
    "### y = mx+c"
   ]
  },
  {
   "cell_type": "code",
   "execution_count": 51,
   "metadata": {},
   "outputs": [],
   "source": [
    "def linear_model_mps(x,m=11,c=11):\n",
    "    y = m*x+c\n",
    "    return y"
   ]
  },
  {
   "cell_type": "code",
   "execution_count": 52,
   "metadata": {},
   "outputs": [],
   "source": [
    "def comparing_out_value(original_y, calculated_y):\n",
    "    return((original_y == calculated_y))"
   ]
  },
  {
   "cell_type": "code",
   "execution_count": 53,
   "metadata": {},
   "outputs": [],
   "source": [
    "# divide data into train and test\n",
    "train_x, test_x, train_y, test_y = data.iloc[0:16,0], data.iloc[16:,0], data.iloc[0:16,1], data.iloc[16:,1]"
   ]
  },
  {
   "cell_type": "code",
   "execution_count": 86,
   "metadata": {},
   "outputs": [],
   "source": [
    "def absolute_error(original_y, calculated_y):\n",
    "    \"\"\"\n",
    "    1.this is a function that calculates absolute difference and then sums\n",
    "    2. it to give error value\n",
    "    2.example :\n",
    "    arrays1 = [1,2]\n",
    "    arrays1 = [2,3]\n",
    "    abs = abs(-1)+abs(1) =2\n",
    "    \"\"\"\n",
    "    abs_err = np.sum(np.absolute(original_y- calculated_y))\n",
    "    #print(\"abs_err\", abs_err)\n",
    "    return abs_err"
   ]
  },
  {
   "cell_type": "code",
   "execution_count": 87,
   "metadata": {},
   "outputs": [],
   "source": [
    "#absolute_error()"
   ]
  },
  {
   "cell_type": "code",
   "execution_count": 88,
   "metadata": {},
   "outputs": [],
   "source": [
    "def SSE(original_y, calculated_y):\n",
    "    \"\"\"\n",
    "    1.this gives sum of sqaured error and those are pretty big \n",
    "    2.this helps take care of outliers because those outliers will give big values\n",
    "    and our model tries to reduce those value\n",
    "    3.this shows square of the amount of total error of all data points\n",
    "    \"\"\"\n",
    "    sse = np.sum((np.absolute(original_y- calculated_y))**2)\n",
    "    return sse"
   ]
  },
  {
   "cell_type": "code",
   "execution_count": 102,
   "metadata": {},
   "outputs": [],
   "source": [
    "def RMSE(original_y, calculated_y):\n",
    "    \"\"\"\n",
    "    1.this gives root of mean of sum of sqaured error and those are pretty big \n",
    "    2.this helps take care of outliers because those outliers will give big values\n",
    "    and our model tries to reduce those value\n",
    "    3. this is error per data point\n",
    "    \"\"\"\n",
    "    #print(len(original_y))\n",
    "    sse = np.sum(((np.absolute(original_y- calculated_y))**2)/len(original_y))\n",
    "    return np.sqrt(sse)"
   ]
  },
  {
   "cell_type": "code",
   "execution_count": 105,
   "metadata": {},
   "outputs": [
    {
     "name": "stdout",
     "output_type": "stream",
     "text": [
      "abs_error 5653.299999999999 , sse_error 3060865.0899999994 , rmse_error 437.3832051245223\n",
      "abs_error 1194.1 , sse_error 117324.60999999997 , rmse_error 85.631700467759\n",
      "abs_error 7193.900000000001 , sse_error 4881315.010000001 , rmse_error 552.3424554793883\n",
      "abs_error 1665.7 , sse_error 314363.41000000003 , rmse_error 140.17030043843098\n",
      "abs_error 4299.799999999999 , sse_error 1734871.2399999998 , rmse_error 329.28627742437124\n",
      "abs_error 5316.0 , sse_error 2922736.0 , rmse_error 427.40028076733876\n",
      "abs_error 3440.0 , sse_error 1252600.0 , rmse_error 279.79903502335384\n",
      "abs_error 2519.2 , sse_error 655915.8399999999 , rmse_error 202.47157825235618\n",
      "abs_error 3853.1 , sse_error 1427960.4100000001 , rmse_error 298.7432436474506\n",
      "abs_error 980.2999999999998 , sse_error 75305.29 , rmse_error 68.60452335670003\n",
      "abs_error 5685.299999999999 , sse_error 3083542.29 , rmse_error 439.00044775034115\n",
      "abs_error 6463.299999999999 , sse_error 4316311.289999999 , rmse_error 519.3933534663299\n",
      "abs_error 611.0999999999999 , sse_error 42126.80999999998 , rmse_error 51.312041715371244\n",
      "abs_error 456.69999999999993 , sse_error 23177.889999999992 , rmse_error 38.06071629646504\n",
      "abs_error 1788.8000000000002 , sse_error 245232.64 , rmse_error 123.80242323961191\n",
      "abs_error 702.6999999999999 , sse_error 60265.20999999998 , rmse_error 61.37243375490334\n",
      "abs_error 7566.799999999999 , sse_error 5271869.4399999995 , rmse_error 574.0137977435734\n",
      "abs_error 2734.7 , sse_error 643172.29 , rmse_error 200.49505760741337\n",
      "abs_error 1580.3999999999999 , sse_error 242196.95999999996 , rmse_error 123.0337758503737\n",
      "abs_error 1992.6999999999998 , sse_error 460831.69000000006 , rmse_error 169.71146285681473\n",
      "abs_error 2867.6 , sse_error 705110.5599999999 , rmse_error 209.9271540320594\n",
      "abs_error 5420.799999999999 , sse_error 2722387.84 , rmse_error 412.4915029427879\n",
      "abs_error 224.40000000000003 , sse_error 5671.360000000002 , rmse_error 18.827108115693186\n",
      "abs_error 2215.9 , sse_error 344835.61 , rmse_error 146.8067628721511\n",
      "abs_error 8114.4 , sse_error 6001196.16 , rmse_error 612.4334739381903\n",
      "abs_error 3923.2999999999997 , sse_error 1412461.0899999999 , rmse_error 297.11751568192676\n",
      "abs_error 810.5 , sse_error 48840.25 , rmse_error 55.249575790226665\n",
      "abs_error 5994.2 , sse_error 3346486.8399999994 , rmse_error 457.3351369619439\n",
      "abs_error 2618.2 , sse_error 531086.44 , rmse_error 182.18919424598155\n",
      "abs_error 4845.6 , sse_error 2466808.96 , rmse_error 392.65195784562184\n",
      "abs_error 2625.2 , sse_error 755969.44 , rmse_error 217.3662577310471\n",
      "abs_error 3858.0 , sse_error 1456104.0 , rmse_error 301.67283603267964\n",
      "abs_error 1996.8 , sse_error 294445.43999999994 , rmse_error 135.65706763748065\n",
      "abs_error 1443.0 , sse_error 161439.0 , rmse_error 100.44868092712815\n",
      "abs_error 6578.7 , sse_error 4002805.889999999 , rmse_error 500.1753373818025\n",
      "abs_error 1858.6 , sse_error 282210.76 , rmse_error 132.80878171265633\n",
      "abs_error 91.50000000000003 , sse_error 980.410000000001 , rmse_error 7.8278748712533766\n",
      "abs_error 1537.7 , sse_error 200973.49 , rmse_error 112.07516729855905\n",
      "abs_error 7344.1 , sse_error 4926660.61 , rmse_error 554.9020527309302\n",
      "abs_error 3688.2000000000003 , sse_error 1503887.16 , rmse_error 306.5826927600447\n",
      "abs_error 5492.4 , sse_error 3183091.3599999994 , rmse_error 446.0305034411884\n",
      "abs_error 1840.4 , sse_error 292612.95999999996 , rmse_error 135.23427819898325\n",
      "abs_error 4452.299999999999 , sse_error 1963415.4899999998 , rmse_error 350.30482172673555\n",
      "abs_error 5011.0 , sse_error 2388721.0 , rmse_error 386.38719246372546\n",
      "abs_error 2315.1 , sse_error 455610.80999999994 , rmse_error 168.747372201762\n",
      "abs_error 5797.299999999999 , sse_error 3163920.4899999998 , rmse_error 444.68531640363386\n",
      "abs_error 6374.299999999999 , sse_error 4006618.6899999995 , rmse_error 500.41349714511097\n",
      "abs_error 1793.3 , sse_error 297952.08999999997 , rmse_error 136.46246965741167\n",
      "abs_error 480.70000000000005 , sse_error 17359.690000000002 , rmse_error 32.93904408145446\n",
      "abs_error 6814.799999999999 , sse_error 4595934.239999999 , rmse_error 535.9532535585543\n",
      "abs_error 1724.5 , sse_error 353237.25 , rmse_error 148.58441413889952\n",
      "abs_error 1629.7 , sse_error 223388.28999999998 , rmse_error 118.15992605363292\n",
      "abs_error 1921.3 , sse_error 327668.89 , rmse_error 143.10592449301322\n",
      "abs_error 2723.6 , sse_error 654789.76 , rmse_error 202.2977014204561\n",
      "abs_error 4289.1 , sse_error 1971566.41 , rmse_error 351.03119608519125\n",
      "abs_error 1368.8 , sse_error 166224.63999999996 , rmse_error 101.926640286041\n",
      "abs_error 2364.7999999999997 , sse_error 602429.44 , rmse_error 194.04082044765735\n",
      "abs_error 3677.1 , sse_error 1345128.21 , rmse_error 289.9491561032727\n",
      "abs_error 2414.7 , sse_error 659936.41 , rmse_error 203.0911756453244\n",
      "abs_error 903.5 , sse_error 99555.25 , rmse_error 78.88094272382905\n",
      "abs_error 120.9 , sse_error 1118.4100000000003 , rmse_error 8.360659363949713\n",
      "abs_error 5201.9 , sse_error 2807623.21 , rmse_error 418.8990936072791\n",
      "abs_error 2244.0 , sse_error 441696.0 , rmse_error 166.15053415502462\n",
      "abs_error 8199.3 , sse_error 6137541.6899999995 , rmse_error 619.3515606059292\n",
      "abs_error 2381.3999999999996 , sse_error 578360.7599999999 , rmse_error 190.12508382641147\n",
      "abs_error 857.8 , sse_error 89613.15999999997 , rmse_error 74.8386430929904\n",
      "abs_error 1408.0 , sse_error 235840.0 , rmse_error 121.40840168620952\n",
      "abs_error 6934.299999999999 , sse_error 4472419.6899999995 , rmse_error 528.7024027040164\n",
      "abs_error 5732.5 , sse_error 3406481.25 , rmse_error 461.4163825927727\n",
      "abs_error 2438.6000000000004 , sse_error 433458.76 , rmse_error 164.59396252596875\n",
      "abs_error 7831.299999999999 , sse_error 5768837.889999999 , rmse_error 600.4601303375603\n",
      "abs_error 142.89999999999998 , sse_error 2040.61 , rmse_error 11.293277867829163\n",
      "abs_error 4841.2 , sse_error 2220276.6399999997 , rmse_error 372.5148184971975\n",
      "abs_error 1110.8999999999999 , sse_error 77777.60999999999 , rmse_error 69.72159367799907\n",
      "abs_error 4825.299999999999 , sse_error 2370674.4899999998 , rmse_error 384.9248701045439\n",
      "abs_error 2344.5 , sse_error 550760.25 , rmse_error 185.53305803818358\n",
      "abs_error 7383.299999999999 , sse_error 5342829.09 , rmse_error 577.8640135230779\n",
      "abs_error 1389.8999999999999 , sse_error 227412.20999999996 , rmse_error 119.21939072567011\n",
      "abs_error 1831.9 , sse_error 247688.41 , rmse_error 124.42076042606395\n",
      "abs_error 5954.7 , sse_error 3514003.2899999996 , rmse_error 468.64187352924404\n",
      "abs_error 1054.4 , sse_error 110371.84 , rmse_error 83.05564399846648\n",
      "abs_error 813.1 , sse_error 71062.21000000002 , rmse_error 66.64374032870604\n",
      "abs_error 4641.199999999999 , sse_error 2220307.84 , rmse_error 372.5174358335459\n",
      "abs_error 4110.4 , sse_error 1482568.9599999995 , rmse_error 304.40197108428845\n",
      "abs_error 5214.1 , sse_error 2486247.61 , rmse_error 394.19598631264626\n",
      "abs_error 1055.0 , sse_error 104095.0 , rmse_error 80.65939188959956\n",
      "abs_error 5383.9 , sse_error 2944671.81 , rmse_error 429.0011516592933\n",
      "abs_error 5399.900000000001 , sse_error 2674687.81 , rmse_error 408.86182033175953\n",
      "abs_error 1018.8999999999999 , sse_error 126652.69 , rmse_error 88.97074308445445\n",
      "abs_error 4197.6 , sse_error 1736698.56 , rmse_error 329.45964851556556\n",
      "abs_error 6807.6 , sse_error 4235662.5600000005 , rmse_error 514.5181337912203\n",
      "abs_error 2142.7000000000003 , sse_error 462708.4900000001 , rmse_error 170.0566982656079\n",
      "abs_error 5952.400000000001 , sse_error 3241010.56 , rmse_error 450.0701723064971\n",
      "abs_error 1681.7 , sse_error 229948.09000000003 , rmse_error 119.88225734027534\n",
      "abs_error 2073.8 , sse_error 429795.64 , rmse_error 163.89700271817054\n",
      "abs_error 3710.1999999999994 , sse_error 1431190.44 , rmse_error 299.08092968292044\n",
      "abs_error 4713.2 , sse_error 2143841.44 , rmse_error 366.0465680757026\n",
      "abs_error 2388.0 , sse_error 483384.0 , rmse_error 173.81455635245283\n",
      "abs_error 1272.8 , sse_error 150375.03999999998 , rmse_error 96.94555172879258\n",
      "abs_error 5638.6 , sse_error 2942010.76 , rmse_error 428.8072673124839\n"
     ]
    }
   ],
   "source": [
    "slope =1\n",
    "intercept =2\n",
    "no_of_iterations =100\n",
    "errors =[]\n",
    "for i in range(no_of_iterations):\n",
    "    slope =random.randint(0,100)\n",
    "    intercept =random.randint(0,100)\n",
    "    y_cal = linear_model_mps(train_x, slope,intercept)\n",
    "    #print(y_cal)\n",
    "    res_abs = absolute_error(train_y, y_cal)\n",
    "    res_sse = SSE(train_y, y_cal)\n",
    "    res_rmse = RMSE(train_y, y_cal)\n",
    "    errors.append([res_abs,res_sse,res_rmse])\n",
    "    #result_freq = res.value_counts()\n",
    "    print(\"abs_error\",res_abs, \", sse_error\",res_sse, \", rmse_error\",res_rmse)\n",
    "    "
   ]
  },
  {
   "cell_type": "code",
   "execution_count": 73,
   "metadata": {},
   "outputs": [
    {
     "data": {
      "text/plain": [
       "array([ 1,  4,  9, 16], dtype=int32)"
      ]
     },
     "execution_count": 73,
     "metadata": {},
     "output_type": "execute_result"
    }
   ],
   "source": []
  },
  {
   "cell_type": "code",
   "execution_count": null,
   "metadata": {},
   "outputs": [],
   "source": []
  }
 ],
 "metadata": {
  "kernelspec": {
   "display_name": "Python 3",
   "language": "python",
   "name": "python3"
  },
  "language_info": {
   "codemirror_mode": {
    "name": "ipython",
    "version": 3
   },
   "file_extension": ".py",
   "mimetype": "text/x-python",
   "name": "python",
   "nbconvert_exporter": "python",
   "pygments_lexer": "ipython3",
   "version": "3.7.4"
  }
 },
 "nbformat": 4,
 "nbformat_minor": 2
}
